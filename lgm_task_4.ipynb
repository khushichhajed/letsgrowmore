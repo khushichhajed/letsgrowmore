{
  "nbformat": 4,
  "nbformat_minor": 0,
  "metadata": {
    "colab": {
      "name": "lgm task 4.ipynb",
      "provenance": [],
      "collapsed_sections": [],
      "authorship_tag": "ABX9TyMd6BoeKKuAApWjWFxEhOaE",
      "include_colab_link": true
    },
    "kernelspec": {
      "name": "python3",
      "display_name": "Python 3"
    },
    "language_info": {
      "name": "python"
    }
  },
  "cells": [
    {
      "cell_type": "markdown",
      "metadata": {
        "id": "view-in-github",
        "colab_type": "text"
      },
      "source": [
        "<a href=\"https://colab.research.google.com/github/khushichhajed/letsgrowmore/blob/main/lgm_task_4.ipynb\" target=\"_parent\"><img src=\"https://colab.research.google.com/assets/colab-badge.svg\" alt=\"Open In Colab\"/></a>"
      ]
    },
    {
      "cell_type": "markdown",
      "source": [
        "**LETS GROW MORE**"
      ],
      "metadata": {
        "id": "ws_zRFzp4x9H"
      }
    },
    {
      "cell_type": "markdown",
      "source": [
        "**DATA SCIENCE INTERN**"
      ],
      "metadata": {
        "id": "Xpzz3sSF406W"
      }
    },
    {
      "cell_type": "markdown",
      "source": [
        "**NAME - KHUSHI CHHAJED**"
      ],
      "metadata": {
        "id": "LBRsXD8241NZ"
      }
    },
    {
      "cell_type": "markdown",
      "source": [
        "**Task-4 : Devlop a nuetral network that can read handwriting**"
      ],
      "metadata": {
        "id": "pUah9X7p4yR8"
      }
    },
    {
      "cell_type": "markdown",
      "source": [
        "*importing libraries*"
      ],
      "metadata": {
        "id": "6HlUlxpk5FZ8"
      }
    },
    {
      "cell_type": "code",
      "source": [
        "import pandas as pd\n",
        "import numpy as np\n",
        "import matplotlib.pyplot as plt\n",
        "import seaborn as sns\n",
        "import tensorflow as tf\n",
        "from tensorflow import keras"
      ],
      "metadata": {
        "id": "GOfCMIMj5ElT"
      },
      "execution_count": null,
      "outputs": []
    },
    {
      "cell_type": "markdown",
      "source": [
        "**Loading dataset**"
      ],
      "metadata": {
        "id": "MAs6bWYo8kRO"
      }
    },
    {
      "cell_type": "code",
      "source": [
        "mnist= tf.keras.datasets.mnist"
      ],
      "metadata": {
        "id": "R1hTHhsB5l3L"
      },
      "execution_count": null,
      "outputs": []
    },
    {
      "cell_type": "markdown",
      "source": [
        "**Dividing the images and their outputs into x_train and x_test sets**"
      ],
      "metadata": {
        "id": "Esw9HQGx8n_N"
      }
    },
    {
      "cell_type": "code",
      "source": [
        "(x_train,y_train),(x_test,y_test)=mnist.load_data()"
      ],
      "metadata": {
        "colab": {
          "base_uri": "https://localhost:8080/"
        },
        "id": "DzeOfVi55myz",
        "outputId": "0405b8b2-b322-42e9-9245-287caac53337"
      },
      "execution_count": null,
      "outputs": [
        {
          "output_type": "stream",
          "name": "stdout",
          "text": [
            "Downloading data from https://storage.googleapis.com/tensorflow/tf-keras-datasets/mnist.npz\n",
            "11493376/11490434 [==============================] - 0s 0us/step\n",
            "11501568/11490434 [==============================] - 0s 0us/step\n"
          ]
        }
      ]
    },
    {
      "cell_type": "markdown",
      "source": [
        "*Cheking the data set images, which needed to be identified by the neural* *network*"
      ],
      "metadata": {
        "id": "31DLclnO8xhx"
      }
    },
    {
      "cell_type": "code",
      "source": [
        "fig=plt.figure(figsize=(20,6))\n",
        "for i in range(20):\n",
        "  ax=fig.add_subplot(2,10,i+1)\n",
        "  ax.imshow(np.squeeze(x_train[i]),cmap='seismic')\n",
        "  ax.set_title(y_train[i])"
      ],
      "metadata": {
        "colab": {
          "base_uri": "https://localhost:8080/",
          "height": 336
        },
        "id": "ucdbke3N79GI",
        "outputId": "f1ff1ba4-0a78-4d94-dbca-aba2eaba2748"
      },
      "execution_count": null,
      "outputs": [
        {
          "output_type": "display_data",
          "data": {
            "image/png": "[encoded data removed]",
            "text/plain": [
              "<Figure size 1440x432 with 20 Axes>"
            ]
          },
          "metadata": {
            "needs_background": "light"
          }
        }
      ]
    },
    {
      "cell_type": "code",
      "source": [
        "print(x_train.shape)\n",
        "print(x_train[0])"
      ],
      "metadata": {
        "colab": {
          "base_uri": "https://localhost:8080/"
        },
        "id": "Y7rR7n439AM0",
        "outputId": "4b73baa9-857d-458d-fd87-ff9146ac376b"
      },
      "execution_count": null,
      "outputs": [
        {
          "output_type": "stream",
          "name": "stdout",
          "text": [
            "(60000, 28, 28)\n",
            "[[  0   0   0   0   0   0   0   0   0   0   0   0   0   0   0   0   0   0\n",
            "    0   0   0   0   0   0   0   0   0   0]\n",
            " [  0   0   0   0   0   0   0   0   0   0   0   0   0   0   0   0   0   0\n",
            "    0   0   0   0   0   0   0   0   0   0]\n",
            " [  0   0   0   0   0   0   0   0   0   0   0   0   0   0   0   0   0   0\n",
            "    0   0   0   0   0   0   0   0   0   0]\n",
            " [  0   0   0   0   0   0   0   0   0   0   0   0   0   0   0   0   0   0\n",
            "    0   0   0   0   0   0   0   0   0   0]\n",
            " [  0   0   0   0   0   0   0   0   0   0   0   0   0   0   0   0   0   0\n",
            "    0   0   0   0   0   0   0   0   0   0]\n",
            " [  0   0   0   0   0   0   0   0   0   0   0   0   3  18  18  18 126 136\n",
            "  175  26 166 255 247 127   0   0   0   0]\n",
            " [  0   0   0   0   0   0   0   0  30  36  94 154 170 253 253 253 253 253\n",
            "  225 172 253 242 195  64   0   0   0   0]\n",
            " [  0   0   0   0   0   0   0  49 238 253 253 253 253 253 253 253 253 251\n",
            "   93  82  82  56  39   0   0   0   0   0]\n",
            " [  0   0   0   0   0   0   0  18 219 253 253 253 253 253 198 182 247 241\n",
            "    0   0   0   0   0   0   0   0   0   0]\n",
            " [  0   0   0   0   0   0   0   0  80 156 107 253 253 205  11   0  43 154\n",
            "    0   0   0   0   0   0   0   0   0   0]\n",
            " [  0   0   0   0   0   0   0   0   0  14   1 154 253  90   0   0   0   0\n",
            "    0   0   0   0   0   0   0   0   0   0]\n",
            " [  0   0   0   0   0   0   0   0   0   0   0 139 253 190   2   0   0   0\n",
            "    0   0   0   0   0   0   0   0   0   0]\n",
            " [  0   0   0   0   0   0   0   0   0   0   0  11 190 253  70   0   0   0\n",
            "    0   0   0   0   0   0   0   0   0   0]\n",
            " [  0   0   0   0   0   0   0   0   0   0   0   0  35 241 225 160 108   1\n",
            "    0   0   0   0   0   0   0   0   0   0]\n",
            " [  0   0   0   0   0   0   0   0   0   0   0   0   0  81 240 253 253 119\n",
            "   25   0   0   0   0   0   0   0   0   0]\n",
            " [  0   0   0   0   0   0   0   0   0   0   0   0   0   0  45 186 253 253\n",
            "  150  27   0   0   0   0   0   0   0   0]\n",
            " [  0   0   0   0   0   0   0   0   0   0   0   0   0   0   0  16  93 252\n",
            "  253 187   0   0   0   0   0   0   0   0]\n",
            " [  0   0   0   0   0   0   0   0   0   0   0   0   0   0   0   0   0 249\n",
            "  253 249  64   0   0   0   0   0   0   0]\n",
            " [  0   0   0   0   0   0   0   0   0   0   0   0   0   0  46 130 183 253\n",
            "  253 207   2   0   0   0   0   0   0   0]\n",
            " [  0   0   0   0   0   0   0   0   0   0   0   0  39 148 229 253 253 253\n",
            "  250 182   0   0   0   0   0   0   0   0]\n",
            " [  0   0   0   0   0   0   0   0   0   0  24 114 221 253 253 253 253 201\n",
            "   78   0   0   0   0   0   0   0   0   0]\n",
            " [  0   0   0   0   0   0   0   0  23  66 213 253 253 253 253 198  81   2\n",
            "    0   0   0   0   0   0   0   0   0   0]\n",
            " [  0   0   0   0   0   0  18 171 219 253 253 253 253 195  80   9   0   0\n",
            "    0   0   0   0   0   0   0   0   0   0]\n",
            " [  0   0   0   0  55 172 226 253 253 253 253 244 133  11   0   0   0   0\n",
            "    0   0   0   0   0   0   0   0   0   0]\n",
            " [  0   0   0   0 136 253 253 253 212 135 132  16   0   0   0   0   0   0\n",
            "    0   0   0   0   0   0   0   0   0   0]\n",
            " [  0   0   0   0   0   0   0   0   0   0   0   0   0   0   0   0   0   0\n",
            "    0   0   0   0   0   0   0   0   0   0]\n",
            " [  0   0   0   0   0   0   0   0   0   0   0   0   0   0   0   0   0   0\n",
            "    0   0   0   0   0   0   0   0   0   0]\n",
            " [  0   0   0   0   0   0   0   0   0   0   0   0   0   0   0   0   0   0\n",
            "    0   0   0   0   0   0   0   0   0   0]]\n"
          ]
        }
      ]
    },
    {
      "cell_type": "code",
      "source": [
        "xtrain = x_train/255.0\n",
        "xtest = x_test/255.0"
      ],
      "metadata": {
        "id": "1Hh_tqj75uhH"
      },
      "execution_count": null,
      "outputs": []
    },
    {
      "cell_type": "code",
      "source": [
        "mod = tf.keras.models.Sequential([tf.keras.layers.Flatten(input_shape=(30,30)),\n",
        "                                    tf.keras.layers.Dense(130, activation ='relu'),\n",
        "                                    tf.keras.layers.Dense(10, activation=tf.nn.softmax)])"
      ],
      "metadata": {
        "id": "qAwIAexm9Ljg"
      },
      "execution_count": null,
      "outputs": []
    },
    {
      "cell_type": "code",
      "source": [
        "mod.summary()"
      ],
      "metadata": {
        "colab": {
          "base_uri": "https://localhost:8080/"
        },
        "id": "8-SbTdB69Stf",
        "outputId": "ac0a3b69-466d-4ea8-87f8-b2364729f0f7"
      },
      "execution_count": null,
      "outputs": [
        {
          "output_type": "stream",
          "name": "stdout",
          "text": [
            "Model: \"sequential_1\"\n",
            "_________________________________________________________________\n",
            " Layer (type)                Output Shape              Param #   \n",
            "=================================================================\n",
            " flatten_1 (Flatten)         (None, 900)               0         \n",
            "                                                                 \n",
            " dense_2 (Dense)             (None, 130)               117130    \n",
            "                                                                 \n",
            " dense_3 (Dense)             (None, 10)                1310      \n",
            "                                                                 \n",
            "=================================================================\n",
            "Total params: 118,440\n",
            "Trainable params: 118,440\n",
            "Non-trainable params: 0\n",
            "_________________________________________________________________\n"
          ]
        }
      ]
    },
    {
      "cell_type": "code",
      "source": [
        "mod.compile(optimizer = tf.keras.optimizers.Adam(),\n",
        "              loss ='sparse_categorical_crossentropy',\n",
        "            metrics=['accuracy'])"
      ],
      "metadata": {
        "id": "TrwlivXc9hSQ"
      },
      "execution_count": null,
      "outputs": []
    },
    {
      "cell_type": "code",
      "source": [
        "mod.fit(xtrain,y_train, epochs=5)"
      ],
      "metadata": {
        "colab": {
          "base_uri": "https://localhost:8080/"
        },
        "id": "9qJs1FQp9mig",
        "outputId": "54449467-f9bf-4317-fc16-a8c4a52687f0"
      },
      "execution_count": null,
      "outputs": [
        {
          "output_type": "stream",
          "name": "stdout",
          "text": [
            "Epoch 1/5\n",
            "1875/1875 [==============================] - 4s 2ms/step - loss: 0.2584 - accuracy: 0.9271\n",
            "Epoch 2/5\n",
            "1875/1875 [==============================] - 4s 2ms/step - loss: 0.1145 - accuracy: 0.9666\n",
            "Epoch 3/5\n",
            "1875/1875 [==============================] - 4s 2ms/step - loss: 0.0776 - accuracy: 0.9771\n",
            "Epoch 4/5\n",
            "1875/1875 [==============================] - 4s 2ms/step - loss: 0.0589 - accuracy: 0.9819\n",
            "Epoch 5/5\n",
            "1875/1875 [==============================] - 4s 2ms/step - loss: 0.0457 - accuracy: 0.9859\n"
          ]
        },
        {
          "output_type": "execute_result",
          "data": {
            "text/plain": [
              "<keras.callbacks.History at 0x7faf561b0a50>"
            ]
          },
          "metadata": {},
          "execution_count": 24
        }
      ]
    },
    {
      "cell_type": "markdown",
      "source": [
        "**98% accuracy achieved in 5 iteration**"
      ],
      "metadata": {
        "id": "F9ZNtGUA9vBc"
      }
    },
    {
      "cell_type": "code",
      "source": [
        "mod.fit(xtrain,y_train, epochs=10)"
      ],
      "metadata": {
        "colab": {
          "base_uri": "https://localhost:8080/"
        },
        "id": "s1Z-TJD696eF",
        "outputId": "a4165f1b-db56-4fb8-c18a-56b01612b467"
      },
      "execution_count": null,
      "outputs": [
        {
          "output_type": "stream",
          "name": "stdout",
          "text": [
            "Epoch 1/10\n",
            "1875/1875 [==============================] - 4s 2ms/step - loss: 0.0082 - accuracy: 0.9974\n",
            "Epoch 2/10\n",
            "1875/1875 [==============================] - 4s 2ms/step - loss: 0.0068 - accuracy: 0.9979\n",
            "Epoch 3/10\n",
            "1875/1875 [==============================] - 4s 2ms/step - loss: 0.0059 - accuracy: 0.9980\n",
            "Epoch 4/10\n",
            "1875/1875 [==============================] - 4s 2ms/step - loss: 0.0060 - accuracy: 0.9981\n",
            "Epoch 5/10\n",
            "1875/1875 [==============================] - 4s 2ms/step - loss: 0.0064 - accuracy: 0.9978\n",
            "Epoch 6/10\n",
            "1875/1875 [==============================] - 4s 2ms/step - loss: 0.0058 - accuracy: 0.9981\n",
            "Epoch 7/10\n",
            "1875/1875 [==============================] - 4s 2ms/step - loss: 0.0043 - accuracy: 0.9987\n",
            "Epoch 8/10\n",
            "1875/1875 [==============================] - 4s 2ms/step - loss: 0.0037 - accuracy: 0.9990\n",
            "Epoch 9/10\n",
            "1875/1875 [==============================] - 4s 2ms/step - loss: 0.0071 - accuracy: 0.9977\n",
            "Epoch 10/10\n",
            "1875/1875 [==============================] - 4s 2ms/step - loss: 0.0025 - accuracy: 0.9994\n"
          ]
        },
        {
          "output_type": "execute_result",
          "data": {
            "text/plain": [
              "<keras.callbacks.History at 0x7faf52065050>"
            ]
          },
          "metadata": {},
          "execution_count": 28
        }
      ]
    },
    {
      "cell_type": "markdown",
      "source": [
        "99% accuracy acieved in 9 iterations"
      ],
      "metadata": {
        "id": "bPmwqkQN-f8V"
      }
    },
    {
      "cell_type": "code",
      "source": [
        "print(mod.evaluate(x_test,y_test))"
      ],
      "metadata": {
        "colab": {
          "base_uri": "https://localhost:8080/"
        },
        "id": "T4Od0SsH-Zfg",
        "outputId": "756be26e-1d3d-4d13-a199-2760ec7ad7de"
      },
      "execution_count": null,
      "outputs": [
        {
          "output_type": "stream",
          "name": "stdout",
          "text": [
            "313/313 [==============================] - 1s 1ms/step - loss: 25.8280 - accuracy: 0.9791\n",
            "[25.827966690063477, 0.9790999889373779]\n"
          ]
        }
      ]
    },
    {
      "cell_type": "markdown",
      "source": [
        "**97 % of total accuracy of our neural network has been achieved**"
      ],
      "metadata": {
        "id": "pQ-A1rRX-pN9"
      }
    },
    {
      "cell_type": "code",
      "source": [
        "history=mod.fit(x_train,y_train,epochs=10,batch_size=20,validation_split=0.1)"
      ],
      "metadata": {
        "colab": {
          "base_uri": "https://localhost:8080/"
        },
        "id": "7IKFtq8C-zuW",
        "outputId": "df1f71a9-f254-4d21-eb38-47ce911f47cb"
      },
      "execution_count": null,
      "outputs": [
        {
          "output_type": "stream",
          "name": "stdout",
          "text": [
            "Epoch 1/10\n",
            "2700/2700 [==============================] - 8s 3ms/step - loss: 4.9866 - accuracy: 0.9921 - val_loss: 1.5920 - val_accuracy: 0.9967\n",
            "Epoch 2/10\n",
            "2700/2700 [==============================] - 7s 3ms/step - loss: 2.3344 - accuracy: 0.9947 - val_loss: 1.8458 - val_accuracy: 0.9947\n",
            "Epoch 3/10\n",
            "2700/2700 [==============================] - 7s 3ms/step - loss: 2.4130 - accuracy: 0.9950 - val_loss: 1.6833 - val_accuracy: 0.9950\n",
            "Epoch 4/10\n",
            "2700/2700 [==============================] - 7s 3ms/step - loss: 2.1923 - accuracy: 0.9952 - val_loss: 3.2139 - val_accuracy: 0.9955\n",
            "Epoch 5/10\n",
            "2700/2700 [==============================] - 7s 2ms/step - loss: 1.8308 - accuracy: 0.9954 - val_loss: 3.4087 - val_accuracy: 0.9932\n",
            "Epoch 6/10\n",
            "2700/2700 [==============================] - 7s 3ms/step - loss: 2.4884 - accuracy: 0.9950 - val_loss: 3.4824 - val_accuracy: 0.9935\n",
            "Epoch 7/10\n",
            "2700/2700 [==============================] - 7s 3ms/step - loss: 2.1274 - accuracy: 0.9954 - val_loss: 5.7220 - val_accuracy: 0.9908\n",
            "Epoch 8/10\n",
            "2700/2700 [==============================] - 7s 3ms/step - loss: 1.9935 - accuracy: 0.9960 - val_loss: 5.8202 - val_accuracy: 0.9903\n",
            "Epoch 9/10\n",
            "2700/2700 [==============================] - 7s 3ms/step - loss: 2.2071 - accuracy: 0.9951 - val_loss: 4.0903 - val_accuracy: 0.9935\n",
            "Epoch 10/10\n",
            "2700/2700 [==============================] - 7s 3ms/step - loss: 2.1060 - accuracy: 0.9957 - val_loss: 5.1790 - val_accuracy: 0.9917\n"
          ]
        }
      ]
    },
    {
      "cell_type": "code",
      "source": [
        "plt.title(\"plot showing loss and accuracy\")\n",
        "plt.xlabel(\"Epoch\")\n",
        "plt.ylabel(\"accuracy/Loss\")\n",
        "plt.plot(history.history['loss'],label='acc')\n",
        "plt.plot(history.history[\"val_loss\"],label='val')\n",
        "plt.show()"
      ],
      "metadata": {
        "colab": {
          "base_uri": "https://localhost:8080/",
          "height": 295
        },
        "id": "nBUDx3sj_LPF",
        "outputId": "9b1a3a01-1a77-4f91-88d0-ea55841b424f"
      },
      "execution_count": null,
      "outputs": [
        {
          "output_type": "display_data",
          "data": {
            "image/png": "[encoded data removed]",
            "text/plain": [
              "<Figure size 432x288 with 1 Axes>"
            ]
          },
          "metadata": {
            "needs_background": "light"
          }
        }
      ]
    },
    {
      "cell_type": "code",
      "source": [
        "plt.title(\"plot showing Accuracy and Loss\")\n",
        "plt.xlabel(\"Epoch\")\n",
        "plt.ylabel(\"accuracy/Loss\")\n",
        "plt.plot(history.history['accuracy'],label='acc')\n",
        "plt.plot(history.history[\"val_accuracy\"],label='val')\n",
        "plt.show()"
      ],
      "metadata": {
        "colab": {
          "base_uri": "https://localhost:8080/",
          "height": 295
        },
        "id": "R9vhIV5v_nS4",
        "outputId": "a2c260b7-4549-4da6-eb96-46a0e4913b13"
      },
      "execution_count": null,
      "outputs": [
        {
          "output_type": "display_data",
          "data": {
            "image/png": "[encoded data removed]",
            "text/plain": [
              "<Figure size 432x288 with 1 Axes>"
            ]
          },
          "metadata": {
            "needs_background": "light"
          }
        }
      ]
    },
    {
      "cell_type": "markdown",
      "source": [
        "**model testing**"
      ],
      "metadata": {
        "id": "BJco_416_wI0"
      }
    },
    {
      "cell_type": "code",
      "source": [
        "plt.imshow(np.squeeze(x_test[4]),cmap=\"seismic\")"
      ],
      "metadata": {
        "colab": {
          "base_uri": "https://localhost:8080/",
          "height": 282
        },
        "id": "a_rkbvRh_zLD",
        "outputId": "af82edf4-ac54-462c-c7eb-4659c8ab3e65"
      },
      "execution_count": null,
      "outputs": [
        {
          "output_type": "execute_result",
          "data": {
            "text/plain": [
              "<matplotlib.image.AxesImage at 0x7faf569d3e90>"
            ]
          },
          "metadata": {},
          "execution_count": 37
        },
        {
          "output_type": "display_data",
          "data": {
            "image/png": "[encoded data removed]",
            "text/plain": [
              "<Figure size 432x288 with 1 Axes>"
            ]
          },
          "metadata": {
            "needs_background": "light"
          }
        }
      ]
    },
    {
      "cell_type": "code",
      "source": [
        "prediction=mod.predict(x_test)\n",
        "print(np.argmax(prediction[4]))"
      ],
      "metadata": {
        "colab": {
          "base_uri": "https://localhost:8080/"
        },
        "id": "KrNUBs37AB1l",
        "outputId": "43fc2710-4e7d-4025-cc44-6539342081dc"
      },
      "execution_count": null,
      "outputs": [
        {
          "output_type": "stream",
          "name": "stdout",
          "text": [
            "4\n"
          ]
        }
      ]
    },
    {
      "cell_type": "code",
      "source": [
        "plt.imshow(np.squeeze(x_test[5]),cmap=\"seismic\")"
      ],
      "metadata": {
        "colab": {
          "base_uri": "https://localhost:8080/",
          "height": 282
        },
        "id": "D36Y4IXVAVY2",
        "outputId": "1e26b047-b93b-40a9-f06b-c89fa0c3b7fd"
      },
      "execution_count": null,
      "outputs": [
        {
          "output_type": "execute_result",
          "data": {
            "text/plain": [
              "<matplotlib.image.AxesImage at 0x7faf56d97190>"
            ]
          },
          "metadata": {},
          "execution_count": 45
        },
        {
          "output_type": "display_data",
          "data": {
            "image/png": "[encoded data removed]",
            "text/plain": [
              "<Figure size 432x288 with 1 Axes>"
            ]
          },
          "metadata": {
            "needs_background": "light"
          }
        }
      ]
    },
    {
      "cell_type": "code",
      "source": [
        "prediction=mod.predict(x_test)\n",
        "print(np.argmax(prediction[5]))"
      ],
      "metadata": {
        "colab": {
          "base_uri": "https://localhost:8080/"
        },
        "id": "l3Ua8xCeAdKn",
        "outputId": "fd528af6-a84c-4992-96c1-7bb23535c651"
      },
      "execution_count": null,
      "outputs": [
        {
          "output_type": "stream",
          "name": "stdout",
          "text": [
            "1\n"
          ]
        }
      ]
    }
  ]
}